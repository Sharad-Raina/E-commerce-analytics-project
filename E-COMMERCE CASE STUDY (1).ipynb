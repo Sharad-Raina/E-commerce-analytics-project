{
 "cells": [
  {
   "cell_type": "code",
   "execution_count": null,
   "id": "6a552360",
   "metadata": {},
   "outputs": [],
   "source": [
    "import numpy as np\n",
    "import pandas as pd\n",
    "\n",
    "import matplotlib.pyplot as plt\n",
    "import seaborn as sns\n",
    "import datetime as dt\n",
    "\n",
    "import scipy.stats as stats"
   ]
  },
  {
   "cell_type": "code",
   "execution_count": null,
   "id": "a98e448c",
   "metadata": {},
   "outputs": [],
   "source": [
    "customers = pd.read_csv(r\"C:\\Users\\ifixthat\\Downloads\\Compressed\\PYTHON\\PYTHON e commerce case study\\5. Python Foundation End to End Case Study_E-Commerce Analytics Project\\CUSTOMERS.csv\")\n",
    "customers.head(2)"
   ]
  },
  {
   "cell_type": "code",
   "execution_count": null,
   "id": "8d1155fb",
   "metadata": {},
   "outputs": [],
   "source": [
    "geo_location = pd.read_csv(r\"C:\\Users\\ifixthat\\Downloads\\Compressed\\PYTHON\\PYTHON e commerce case study\\5. Python Foundation End to End Case Study_E-Commerce Analytics Project\\GEO_LOCATION.csv\")\n",
    "geo_location.head(5)"
   ]
  },
  {
   "cell_type": "code",
   "execution_count": null,
   "id": "22f4276e",
   "metadata": {},
   "outputs": [],
   "source": [
    "order_items = pd.read_csv(r\"C:\\Users\\ifixthat\\Downloads\\Compressed\\PYTHON\\PYTHON e commerce case study\\5. Python Foundation End to End Case Study_E-Commerce Analytics Project\\ORDER_ITEMS.csv\")\n",
    "order_items.head(2)"
   ]
  },
  {
   "cell_type": "code",
   "execution_count": null,
   "id": "fd99ae8e",
   "metadata": {},
   "outputs": [],
   "source": [
    "order_payments = pd.read_csv(r\"C:\\Users\\ifixthat\\Downloads\\Compressed\\PYTHON\\PYTHON e commerce case study\\5. Python Foundation End to End Case Study_E-Commerce Analytics Project\\ORDER_PAYMENTS.csv\")\n",
    "order_payments.head(2)"
   ]
  },
  {
   "cell_type": "code",
   "execution_count": null,
   "id": "62aac8ae",
   "metadata": {},
   "outputs": [],
   "source": [
    "orr = pd.read_csv(r\"C:\\Users\\ifixthat\\Downloads\\Compressed\\PYTHON\\PYTHON e commerce case study\\5. Python Foundation End to End Case Study_E-Commerce Analytics Project\\ORDER_REVIEW_RATINGS.csv\")\n",
    "orr.head(2)"
   ]
  },
  {
   "cell_type": "code",
   "execution_count": null,
   "id": "ace47fbd",
   "metadata": {},
   "outputs": [],
   "source": [
    "orders = pd.read_csv(r\"C:\\Users\\ifixthat\\Downloads\\Compressed\\PYTHON\\PYTHON e commerce case study\\5. Python Foundation End to End Case Study_E-Commerce Analytics Project\\ORDERS.csv\")\n",
    "orders.head(2)"
   ]
  },
  {
   "cell_type": "code",
   "execution_count": null,
   "id": "0e2fa1bc",
   "metadata": {},
   "outputs": [],
   "source": [
    "products = pd.read_csv(r\"C:\\Users\\ifixthat\\Downloads\\Compressed\\PYTHON\\PYTHON e commerce case study\\5. Python Foundation End to End Case Study_E-Commerce Analytics Project\\PRODUCTS.csv\")\n",
    "products.head(2)"
   ]
  },
  {
   "cell_type": "code",
   "execution_count": null,
   "id": "3b0a93d3",
   "metadata": {},
   "outputs": [],
   "source": [
    "sellers = pd.read_csv(r\"C:\\Users\\ifixthat\\Downloads\\Compressed\\PYTHON\\PYTHON e commerce case study\\5. Python Foundation End to End Case Study_E-Commerce Analytics Project\\SELLERS.csv\")\n",
    "sellers.head(2)"
   ]
  },
  {
   "cell_type": "markdown",
   "id": "0fab192b",
   "metadata": {},
   "source": [
    "## ***1. Perform Detailed exploratory analysis***                                                                                                  "
   ]
  },
  {
   "cell_type": "markdown",
   "id": "b18737a1",
   "metadata": {},
   "source": [
    "## ***a. Define & calculate high level metrics like (Total Revenue, Total quantity, Total products, Total categories, Total sellers, Total locations, Total channels, Total payment methods etc…)***"
   ]
  },
  {
   "cell_type": "code",
   "execution_count": 10,
   "id": "84d7bae4",
   "metadata": {},
   "outputs": [
    {
     "data": {
      "text/plain": [
       "16008872.12"
      ]
     },
     "execution_count": 10,
     "metadata": {},
     "output_type": "execute_result"
    }
   ],
   "source": [
    "Total_Revenue = order_payments.payment_value.sum()\n",
    "Total_Revenue"
   ]
  },
  {
   "cell_type": "code",
   "execution_count": 11,
   "id": "d2c5ec69",
   "metadata": {},
   "outputs": [
    {
     "data": {
      "text/plain": [
       "112650"
      ]
     },
     "execution_count": 11,
     "metadata": {},
     "output_type": "execute_result"
    }
   ],
   "source": [
    "Total_Quantity = order_items.order_id.count()\n",
    "Total_Quantity"
   ]
  },
  {
   "cell_type": "code",
   "execution_count": 12,
   "id": "5efe3181",
   "metadata": {},
   "outputs": [
    {
     "data": {
      "text/plain": [
       "32951"
      ]
     },
     "execution_count": 12,
     "metadata": {},
     "output_type": "execute_result"
    }
   ],
   "source": [
    "Total_Products = products.product_id.count()\n",
    "Total_Products"
   ]
  },
  {
   "cell_type": "code",
   "execution_count": 13,
   "id": "1eed52a0",
   "metadata": {},
   "outputs": [
    {
     "data": {
      "text/plain": [
       "32328"
      ]
     },
     "execution_count": 13,
     "metadata": {},
     "output_type": "execute_result"
    }
   ],
   "source": [
    "Total_categories = products.product_category_name.count()\n",
    "Total_categories"
   ]
  },
  {
   "cell_type": "code",
   "execution_count": 14,
   "id": "009c6ab3",
   "metadata": {},
   "outputs": [
    {
     "data": {
      "text/plain": [
       "3095"
      ]
     },
     "execution_count": 14,
     "metadata": {},
     "output_type": "execute_result"
    }
   ],
   "source": [
    "Total_sellers = sellers.seller_id.count()\n",
    "Total_sellers"
   ]
  },
  {
   "cell_type": "code",
   "execution_count": 15,
   "id": "ed3d6428",
   "metadata": {},
   "outputs": [
    {
     "data": {
      "text/plain": [
       "19015"
      ]
     },
     "execution_count": 15,
     "metadata": {},
     "output_type": "execute_result"
    }
   ],
   "source": [
    "Total_locations = geo_location.geolocation_state.count()\n",
    "Total_locations"
   ]
  },
  {
   "cell_type": "code",
   "execution_count": 16,
   "id": "8ebf9cb4",
   "metadata": {},
   "outputs": [
    {
     "data": {
      "text/plain": [
       "5"
      ]
     },
     "execution_count": 16,
     "metadata": {},
     "output_type": "execute_result"
    }
   ],
   "source": [
    "Total_pay_methods = order_payments.payment_type.nunique()\n",
    "Total_pay_methods"
   ]
  },
  {
   "cell_type": "markdown",
   "id": "9640a1b0",
   "metadata": {},
   "source": [
    "### b. Understanding how many new customers acquired every month"
   ]
  },
  {
   "cell_type": "code",
   "execution_count": 17,
   "id": "51a3e732",
   "metadata": {},
   "outputs": [],
   "source": [
    "orders['order_purchase_timestamp'] = pd.to_datetime(orders['order_purchase_timestamp'])\n"
   ]
  },
  {
   "cell_type": "code",
   "execution_count": 18,
   "id": "1c41f3d1",
   "metadata": {},
   "outputs": [],
   "source": [
    "orders['month'] = orders.order_purchase_timestamp.apply(lambda x : pd.Timestamp.strftime(x , format = '%B'))"
   ]
  },
  {
   "cell_type": "code",
   "execution_count": 19,
   "id": "67be139b",
   "metadata": {},
   "outputs": [],
   "source": [
    "orders['year'] = orders.order_purchase_timestamp.dt.year"
   ]
  },
  {
   "cell_type": "code",
   "execution_count": 20,
   "id": "b13a8b52",
   "metadata": {},
   "outputs": [],
   "source": [
    "## Creating sets of customers in each month\n",
    "nc = orders.loc[orders.month == 'January' , 'customer_id'].reset_index()\n",
    "jan_cnt = set(nc.loc[ : : , 'customer_id'])\n"
   ]
  },
  {
   "cell_type": "code",
   "execution_count": 21,
   "id": "c2b69497",
   "metadata": {},
   "outputs": [],
   "source": [
    "nc = orders.loc[orders.month == 'February' , 'customer_id'].reset_index()\n",
    "feb_cnt = set(nc.loc[ : : , 'customer_id'])\n"
   ]
  },
  {
   "cell_type": "code",
   "execution_count": 22,
   "id": "0d806a67",
   "metadata": {},
   "outputs": [],
   "source": [
    "nc = orders.loc[orders.month == 'March' , 'customer_id'].reset_index()\n",
    "march_cnt = set(nc.loc[ : : , 'customer_id'])\n"
   ]
  },
  {
   "cell_type": "code",
   "execution_count": 23,
   "id": "5642ca59",
   "metadata": {},
   "outputs": [],
   "source": [
    "nc = orders.loc[orders.month == 'April' , 'customer_id'].reset_index()\n",
    "april_cnt = set(nc.loc[ : : , 'customer_id'])\n"
   ]
  },
  {
   "cell_type": "code",
   "execution_count": 24,
   "id": "8caee740",
   "metadata": {},
   "outputs": [],
   "source": [
    "nc = orders.loc[orders.month == 'May' , 'customer_id'].reset_index()\n",
    "may_cnt = set(nc.loc[ : : , 'customer_id'])\n"
   ]
  },
  {
   "cell_type": "code",
   "execution_count": 25,
   "id": "91ce1803",
   "metadata": {},
   "outputs": [],
   "source": [
    "nc = orders.loc[orders.month == 'June' , 'customer_id'].reset_index()\n",
    "june_cnt = set(nc.loc[ : : , 'customer_id'])\n"
   ]
  },
  {
   "cell_type": "code",
   "execution_count": 26,
   "id": "99fa435d",
   "metadata": {},
   "outputs": [],
   "source": [
    "nc = orders.loc[orders.month == 'July' , 'customer_id'].reset_index()\n",
    "july_cnt = set(nc.loc[ : : , 'customer_id'])\n"
   ]
  },
  {
   "cell_type": "code",
   "execution_count": 27,
   "id": "d32ebeca",
   "metadata": {},
   "outputs": [],
   "source": [
    "nc = orders.loc[orders.month == 'August' , 'customer_id'].reset_index()\n",
    "aug_cnt = set(nc.loc[ : : , 'customer_id'])\n"
   ]
  },
  {
   "cell_type": "code",
   "execution_count": 28,
   "id": "f1edba3e",
   "metadata": {},
   "outputs": [],
   "source": [
    "nc = orders.loc[orders.month == 'September' , 'customer_id'].reset_index()\n",
    "sept_cnt = set(nc.loc[ : : , 'customer_id'])\n"
   ]
  },
  {
   "cell_type": "code",
   "execution_count": 29,
   "id": "2869974c",
   "metadata": {},
   "outputs": [],
   "source": [
    "nc = orders.loc[orders.month == 'October' , 'customer_id'].reset_index()\n",
    "oct_cnt = set(nc.loc[ : : , 'customer_id'])\n"
   ]
  },
  {
   "cell_type": "code",
   "execution_count": 30,
   "id": "b4d7a8b8",
   "metadata": {},
   "outputs": [],
   "source": [
    "nc = orders.loc[orders.month == 'November' , 'customer_id'].reset_index()\n",
    "nov_cnt = set(nc.loc[ : : , 'customer_id'])\n"
   ]
  },
  {
   "cell_type": "code",
   "execution_count": 31,
   "id": "fe5d5909",
   "metadata": {},
   "outputs": [],
   "source": [
    "nc = orders.loc[orders.month == 'December' , 'customer_id'].reset_index()\n",
    "dec_cnt = set(nc.loc[ : : , 'customer_id'])\n"
   ]
  },
  {
   "cell_type": "code",
   "execution_count": 32,
   "id": "65a75285",
   "metadata": {},
   "outputs": [
    {
     "data": {
      "text/plain": [
       "8508"
      ]
     },
     "execution_count": 32,
     "metadata": {},
     "output_type": "execute_result"
    }
   ],
   "source": [
    "len(feb_cnt.difference(jan_cnt))\n",
    "\n",
    "## Length of (Feb count minus Jan count) is same as feb count indicating there are no common customer_id's amongst the two months. "
   ]
  },
  {
   "cell_type": "code",
   "execution_count": 33,
   "id": "1b8b18d4",
   "metadata": {},
   "outputs": [
    {
     "data": {
      "text/html": [
       "<div>\n",
       "<style scoped>\n",
       "    .dataframe tbody tr th:only-of-type {\n",
       "        vertical-align: middle;\n",
       "    }\n",
       "\n",
       "    .dataframe tbody tr th {\n",
       "        vertical-align: top;\n",
       "    }\n",
       "\n",
       "    .dataframe thead th {\n",
       "        text-align: right;\n",
       "    }\n",
       "</style>\n",
       "<table border=\"1\" class=\"dataframe\">\n",
       "  <thead>\n",
       "    <tr style=\"text-align: right;\">\n",
       "      <th></th>\n",
       "      <th>order_id</th>\n",
       "      <th>customer_id</th>\n",
       "      <th>order_status</th>\n",
       "      <th>order_purchase_timestamp</th>\n",
       "      <th>order_approved_at</th>\n",
       "      <th>order_delivered_carrier_date</th>\n",
       "      <th>order_delivered_customer_date</th>\n",
       "      <th>order_estimated_delivery_date</th>\n",
       "      <th>month</th>\n",
       "      <th>year</th>\n",
       "    </tr>\n",
       "  </thead>\n",
       "  <tbody>\n",
       "  </tbody>\n",
       "</table>\n",
       "</div>"
      ],
      "text/plain": [
       "Empty DataFrame\n",
       "Columns: [order_id, customer_id, order_status, order_purchase_timestamp, order_approved_at, order_delivered_carrier_date, order_delivered_customer_date, order_estimated_delivery_date, month, year]\n",
       "Index: []"
      ]
     },
     "execution_count": 33,
     "metadata": {},
     "output_type": "execute_result"
    }
   ],
   "source": [
    "orders[orders.customer_id.duplicated()]"
   ]
  },
  {
   "cell_type": "code",
   "execution_count": 34,
   "id": "fda93b02",
   "metadata": {},
   "outputs": [
    {
     "data": {
      "text/plain": [
       "year  month      customer_id                     \n",
       "2016  December   0975c3cf2e418ebfa5d1191a2dffd59d    1\n",
       "      October    00474d2582fd72663036795b7ab8cfc1    1\n",
       "                 01415cfeb907d8ce0e17075b4c097fe9    1\n",
       "                 01be2c0c2d55c597b5ec011e26e4b0d1    1\n",
       "                 01f7b7a4e25cda9ce48c0f7263f7452d    1\n",
       "                                                    ..\n",
       "2018  September  a7c87c25dbdded68c26c640582cb5ddb    1\n",
       "                 ad2eb5d02c0808bcd8743117f6383cf6    1\n",
       "                 d6441eef3f37c3edb0d5634c3c85120b    1\n",
       "                 ead83a4f8f7be8c3034b2e98754a6147    1\n",
       "                 fea4d57ed3a45455f89c25ef3dae8ee8    1\n",
       "Name: customer_id, Length: 99441, dtype: int64"
      ]
     },
     "execution_count": 34,
     "metadata": {},
     "output_type": "execute_result"
    }
   ],
   "source": [
    "### Since there are no duplicate records so the groupby formula shows new customers added each month..\n",
    "\n",
    "ag = orders.groupby(['year','month','customer_id'])['customer_id'].count()\n",
    "ag"
   ]
  },
  {
   "cell_type": "code",
   "execution_count": null,
   "id": "f875dc1e",
   "metadata": {},
   "outputs": [],
   "source": [
    "ag.plot(x='month', y='customer_id', kind ='bar' , xlabel = 'month', ylabel = 'count of new customers' )\n"
   ]
  },
  {
   "cell_type": "markdown",
   "id": "45992703",
   "metadata": {},
   "source": [
    "### c. Understand the retention of customers on month on month basis"
   ]
  },
  {
   "cell_type": "code",
   "execution_count": null,
   "id": "9ad2c00b",
   "metadata": {},
   "outputs": [],
   "source": [
    "dec_cnt.intersection(nov_cnt)"
   ]
  },
  {
   "cell_type": "code",
   "execution_count": null,
   "id": "7b5e1139",
   "metadata": {},
   "outputs": [],
   "source": [
    "### Since the set is empty, it means every month net set of customers are added. Hence retention is ZERO."
   ]
  },
  {
   "cell_type": "markdown",
   "id": "24e64f7c",
   "metadata": {},
   "source": [
    "### e. Understand the trends/seasonality of sales, quantity by category, location, month, week, day, time, channel, payment method etc…"
   ]
  },
  {
   "cell_type": "code",
   "execution_count": null,
   "id": "78523aa5",
   "metadata": {},
   "outputs": [],
   "source": [
    "# Quantity by payment channel\n",
    "\n",
    "order_payments.groupby('payment_type')['order_id'].count().sort_values(ascending = False)"
   ]
  },
  {
   "cell_type": "code",
   "execution_count": null,
   "id": "86cca529",
   "metadata": {},
   "outputs": [],
   "source": [
    "# Quantity by category\n",
    "\n",
    "products.merge(order_items,on='product_id',how='inner').groupby('product_category_name')['order_id'].count().sort_values(ascending = False)"
   ]
  },
  {
   "cell_type": "code",
   "execution_count": null,
   "id": "b8486267",
   "metadata": {},
   "outputs": [],
   "source": [
    "# Quantity by month\n",
    "\n",
    "orders.groupby('month')['order_id'].count().sort_values(ascending = False)"
   ]
  },
  {
   "cell_type": "code",
   "execution_count": null,
   "id": "db584b14",
   "metadata": {},
   "outputs": [],
   "source": [
    "# Quantity by state\n",
    "\n",
    "orders.merge(customers,on='customer_id',how='inner').groupby('customer_state')['order_id'].count().sort_values(ascending = False)"
   ]
  },
  {
   "cell_type": "markdown",
   "id": "0f88328e",
   "metadata": {},
   "source": [
    "### f. Popular Products by month, seller, state, category."
   ]
  },
  {
   "cell_type": "code",
   "execution_count": null,
   "id": "840c28ed",
   "metadata": {},
   "outputs": [],
   "source": [
    "# original merged table is created in the subsequent question !!\n",
    "new_merge = merged.merge(sellers,on = 'seller_id',how='inner')\n",
    "new_merge "
   ]
  },
  {
   "cell_type": "code",
   "execution_count": null,
   "id": "7e4e204b",
   "metadata": {},
   "outputs": [],
   "source": [
    "fc1 = new_merge.loc[: : ,[ 'review_score','seller_id','product_category_name','seller_state','month']]\n",
    "fc1"
   ]
  },
  {
   "cell_type": "code",
   "execution_count": null,
   "id": "453f1c1a",
   "metadata": {},
   "outputs": [],
   "source": [
    "fc1.groupby(['month','seller_state','product_category_name','seller_id'])['review_score'].sum().sort_values(ascending = False).reset_index()"
   ]
  },
  {
   "cell_type": "markdown",
   "id": "cffc7195",
   "metadata": {},
   "source": [
    "### g. Popular categories by state, month"
   ]
  },
  {
   "cell_type": "code",
   "execution_count": null,
   "id": "196c5db7",
   "metadata": {},
   "outputs": [],
   "source": [
    "pc =pd.DataFrame(orr.groupby('order_id' )['review_score'].sum().sort_values(ascending = False))"
   ]
  },
  {
   "cell_type": "code",
   "execution_count": null,
   "id": "fc04965b",
   "metadata": {},
   "outputs": [],
   "source": [
    "pc = pc.reset_index()"
   ]
  },
  {
   "cell_type": "code",
   "execution_count": null,
   "id": "4f087522",
   "metadata": {},
   "outputs": [],
   "source": [
    "pc = pc[pc.review_score >=10]\n",
    "pc"
   ]
  },
  {
   "cell_type": "code",
   "execution_count": null,
   "id": "76054ef7",
   "metadata": {},
   "outputs": [],
   "source": [
    "merged = pc.merge(order_items, on = 'order_id' , how = 'inner').merge(products , on = 'product_id',how='inner')"
   ]
  },
  {
   "cell_type": "code",
   "execution_count": null,
   "id": "a6ec5945",
   "metadata": {},
   "outputs": [],
   "source": [
    "merged = merged.merge(orders , on = 'order_id',how ='inner').merge(customers,on='customer_id',how='inner')"
   ]
  },
  {
   "cell_type": "code",
   "execution_count": null,
   "id": "97e68013",
   "metadata": {},
   "outputs": [],
   "source": [
    "fc = merged.loc[ : : , ['review_score', 'product_category_name','month','customer_state']]\n",
    "fc"
   ]
  },
  {
   "cell_type": "code",
   "execution_count": null,
   "id": "c1b48158",
   "metadata": {},
   "outputs": [],
   "source": [
    "fc.groupby(['month','customer_state','product_category_name'])['review_score'].sum().sort_values(ascending = False).reset_index()"
   ]
  },
  {
   "cell_type": "markdown",
   "id": "4356d2df",
   "metadata": {},
   "source": [
    "### h. List top 10 most expensive products sorted by price"
   ]
  },
  {
   "cell_type": "code",
   "execution_count": null,
   "id": "4fd7bcc0",
   "metadata": {},
   "outputs": [],
   "source": [
    "oip = order_items.merge(products , on = 'product_id' , how = 'inner')\n",
    "oip.head(2)"
   ]
  },
  {
   "cell_type": "code",
   "execution_count": null,
   "id": "9256665a",
   "metadata": {},
   "outputs": [],
   "source": [
    "expensive_prod_list = oip.groupby('product_category_name')['price'].sum().sort_values(ascending = False)\n",
    "expensive_prod_list.head(10)"
   ]
  },
  {
   "cell_type": "markdown",
   "id": "dc9b1648",
   "metadata": {},
   "source": [
    "### 2. Performing Customers/sellers Segmentation"
   ]
  },
  {
   "cell_type": "markdown",
   "id": "9fe88812",
   "metadata": {},
   "source": [
    "### a. Divide the customers into groups based on the revenue generated"
   ]
  },
  {
   "cell_type": "code",
   "execution_count": null,
   "id": "5fac630f",
   "metadata": {},
   "outputs": [],
   "source": [
    "rc = orders.merge(order_payments,on = 'order_id',how='inner').merge(customers,on='customer_id',how='inner').groupby('customer_id')['payment_value'].sum().reset_index()\n",
    "rc"
   ]
  },
  {
   "cell_type": "code",
   "execution_count": null,
   "id": "2bbd2389",
   "metadata": {},
   "outputs": [],
   "source": [
    "rc['cust_group'] = np.where(rc.payment_value>= rc.payment_value.median(),'High','Low')\n"
   ]
  },
  {
   "cell_type": "markdown",
   "id": "3c833a7b",
   "metadata": {},
   "source": [
    "### b. Divide the sellers into groups based on the revenue generated "
   ]
  },
  {
   "cell_type": "code",
   "execution_count": null,
   "id": "6982a32f",
   "metadata": {},
   "outputs": [],
   "source": [
    "rs = oip.loc[ : : , ['seller_id','price','freight_value']]\n",
    "rs['Total_Revenue'] = rs.price * rs.freight_value"
   ]
  },
  {
   "cell_type": "code",
   "execution_count": null,
   "id": "46e85877",
   "metadata": {},
   "outputs": [],
   "source": [
    "rs['seller_group']  = np.where(rs.Total_Revenue>= rs.Total_Revenue.median(),\"High\",'Low')"
   ]
  },
  {
   "cell_type": "markdown",
   "id": "c668f256",
   "metadata": {},
   "source": [
    "### 3. Cross-Selling (Which products are selling together)                                                                                           Hint: We need to find which of the top 10 combinations of products are selling together in                                           each transaction. (combination of 2 or 3 buying together)\n"
   ]
  },
  {
   "cell_type": "code",
   "execution_count": null,
   "id": "828c04a7",
   "metadata": {},
   "outputs": [],
   "source": [
    "products.head(2)"
   ]
  },
  {
   "cell_type": "markdown",
   "id": "6601760e",
   "metadata": {},
   "source": [
    "## 4. Payment Behaviour"
   ]
  },
  {
   "cell_type": "markdown",
   "id": "a096829c",
   "metadata": {},
   "source": [
    "### a. How customers are paying?"
   ]
  },
  {
   "cell_type": "code",
   "execution_count": null,
   "id": "a87a2e40",
   "metadata": {},
   "outputs": [],
   "source": [
    "order_payments.payment_type.drop_duplicates()"
   ]
  },
  {
   "cell_type": "markdown",
   "id": "56ff9120",
   "metadata": {},
   "source": [
    "### b. Which payment channels are used by most customers?"
   ]
  },
  {
   "cell_type": "code",
   "execution_count": null,
   "id": "5e683d1c",
   "metadata": {},
   "outputs": [],
   "source": [
    "order_payments.payment_type.value_counts()"
   ]
  },
  {
   "cell_type": "markdown",
   "id": "94bd500f",
   "metadata": {},
   "source": [
    "### 5. Customer satisfaction towards category & product                                                                                                    "
   ]
  },
  {
   "cell_type": "markdown",
   "id": "9726a573",
   "metadata": {},
   "source": [
    "### a. Which categories (top 10) are maximum rated & minimum rated?"
   ]
  },
  {
   "cell_type": "code",
   "execution_count": null,
   "id": "25c78353",
   "metadata": {},
   "outputs": [],
   "source": [
    "## Top 10 max rated categories\n",
    "fc.groupby(['month','customer_state','product_category_name'])['review_score'].sum().sort_values(ascending = False).reset_index()"
   ]
  },
  {
   "cell_type": "code",
   "execution_count": null,
   "id": "43121ebb",
   "metadata": {},
   "outputs": [],
   "source": [
    "cat =pd.DataFrame(orr.groupby('order_id' )['review_score'].sum().sort_values(ascending = True)).reset_index()\n",
    "lc = cat.merge(order_items,on='order_id',how='inner').merge(products,on='product_id',how='inner')"
   ]
  },
  {
   "cell_type": "code",
   "execution_count": null,
   "id": "af8d08f1",
   "metadata": {},
   "outputs": [],
   "source": [
    "# Top 10 min rated products\n",
    "lc.groupby('product_category_name')['review_score'].sum().reset_index().sort_values('review_score').head(10)"
   ]
  },
  {
   "cell_type": "markdown",
   "id": "b26f9547",
   "metadata": {},
   "source": [
    "### b. Which products (top10) are maximum rated & minimum rated?"
   ]
  },
  {
   "cell_type": "code",
   "execution_count": null,
   "id": "5220d021",
   "metadata": {},
   "outputs": [],
   "source": [
    "# Top10 maximum rated products\n",
    "orr.merge(order_items,on='order_id',how='inner').groupby('product_id')['review_score'].sum().sort_values(ascending = False).reset_index().head(10)"
   ]
  },
  {
   "cell_type": "code",
   "execution_count": null,
   "id": "f8a6b79a",
   "metadata": {},
   "outputs": [],
   "source": [
    "# Top 10 minimum rated products\n",
    "orr.merge(order_items,on='order_id',how='inner').groupby('product_id')['review_score'].sum().sort_values().reset_index().head(10)"
   ]
  },
  {
   "cell_type": "markdown",
   "id": "fa119a76",
   "metadata": {},
   "source": [
    "### c. Average rating by location, seller, product, category, month etc."
   ]
  },
  {
   "cell_type": "code",
   "execution_count": null,
   "id": "8dc02138",
   "metadata": {},
   "outputs": [],
   "source": [
    "ar = orr.merge(order_items,on='order_id',how='inner').merge(products,on='product_id',how='inner').merge(orders,on='order_id',how='inner').merge(sellers,on='seller_id',how='inner')\n",
    "ar"
   ]
  },
  {
   "cell_type": "code",
   "execution_count": null,
   "id": "ea5105bf",
   "metadata": {},
   "outputs": [],
   "source": [
    "ar.groupby(['seller_state','month','product_id', 'seller_id'])['review_score'].mean().reset_index()"
   ]
  },
  {
   "cell_type": "code",
   "execution_count": null,
   "id": "638ebde0",
   "metadata": {},
   "outputs": [],
   "source": []
  },
  {
   "cell_type": "code",
   "execution_count": null,
   "id": "c968562c",
   "metadata": {},
   "outputs": [],
   "source": []
  }
 ],
 "metadata": {
  "kernelspec": {
   "display_name": "Python 3 (ipykernel)",
   "language": "python",
   "name": "python3"
  },
  "language_info": {
   "codemirror_mode": {
    "name": "ipython",
    "version": 3
   },
   "file_extension": ".py",
   "mimetype": "text/x-python",
   "name": "python",
   "nbconvert_exporter": "python",
   "pygments_lexer": "ipython3",
   "version": "3.10.9"
  }
 },
 "nbformat": 4,
 "nbformat_minor": 5
}
